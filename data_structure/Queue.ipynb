{
 "cells": [
  {
   "cell_type": "markdown",
   "metadata": {},
   "source": [
    "## Queue"
   ]
  },
  {
   "cell_type": "markdown",
   "metadata": {},
   "source": [
    "### Design Circular Queue"
   ]
  },
  {
   "cell_type": "code",
   "execution_count": null,
   "metadata": {},
   "outputs": [],
   "source": [
    "Input\n",
    "[\"MyCircularQueue\", \"enQueue\", \"enQueue\", \"enQueue\", \"enQueue\", \"Rear\", \"isFull\", \"deQueue\", \"enQueue\", \"Rear\"]\n",
    "[[3], [1], [2], [3], [4], [], [], [], [4], []]\n",
    "Output\n",
    "[null, true, true, true, false, 3, true, true, true, 4]\n",
    "\n",
    "Explanation\n",
    "MyCircularQueue myCircularQueue = new MyCircularQueue(3);\n",
    "myCircularQueue.enQueue(1); // return True\n",
    "myCircularQueue.enQueue(2); // return True\n",
    "myCircularQueue.enQueue(3); // return True\n",
    "myCircularQueue.enQueue(4); // return False\n",
    "myCircularQueue.Rear();     // return 3\n",
    "myCircularQueue.isFull();   // return True\n",
    "myCircularQueue.deQueue();  // return True\n",
    "myCircularQueue.enQueue(4); // return True\n",
    "myCircularQueue.Rear();     // return 4"
   ]
  },
  {
   "cell_type": "code",
   "execution_count": 92,
   "metadata": {},
   "outputs": [
    {
     "data": {
      "text/plain": [
       "[None, None, None, None, None, None, None, None, None, None]"
      ]
     },
     "execution_count": 92,
     "metadata": {},
     "output_type": "execute_result"
    }
   ],
   "source": [
    "a = [None] * 10\n",
    "a"
   ]
  },
  {
   "cell_type": "code",
   "execution_count": 102,
   "metadata": {},
   "outputs": [],
   "source": [
    "class MyCircularQueue:\n",
    "    def __init__(self, k):\n",
    "        self.stack = [None] * k \n",
    "        self.f = -1\n",
    "        self.r = -1\n",
    "        self.size = 0\n",
    "        self.maxSize = k\n",
    "        \n",
    "    def enQueue(self, value): #插入\n",
    "        if self.isFull(): \n",
    "            return False \n",
    "        if self.r == -1:\n",
    "            self.f = self.r = 0\n",
    "        else:\n",
    "            self.r = (self.r + 1) % self.maxSize\n",
    "        self.stack[self.r] = value\n",
    "        self.size += 1\n",
    "        return True\n",
    "        \n",
    "    def deQueue(self): #移除\n",
    "        if self.isEmpty(): \n",
    "            return False\n",
    "        if self.f == self.r: \n",
    "            self.f = self.r = -1\n",
    "        else:\n",
    "            self.stack[self.f] = None\n",
    "            self.f = (self.f + 1) % self.maxSize\n",
    "        self.size -= 1\n",
    "        return True\n",
    "        \n",
    "    def Front(self): # 找到第一項，空集回-1\n",
    "        if self.isEmpty(): \n",
    "            return -1\n",
    "        return self.stack[self.f]\n",
    "        \n",
    "    def Rear(self): # 找到最後一項，空集回-1\n",
    "        if self.isEmpty(): \n",
    "            return -1\n",
    "        return self.stack[self.r]\n",
    "    \n",
    "    def isEmpty(self):\n",
    "        return self.size == 0\n",
    "    \n",
    "    def isFull(self):\n",
    "        return self.size == self.maxSize\n"
   ]
  },
  {
   "cell_type": "code",
   "execution_count": 103,
   "metadata": {},
   "outputs": [
    {
     "name": "stdout",
     "output_type": "stream",
     "text": [
      "True\n",
      "True\n",
      "True\n",
      "False\n",
      "3\n",
      "True\n",
      "True\n",
      "True\n",
      "4\n"
     ]
    }
   ],
   "source": [
    "myCircularQueue = MyCircularQueue(3);\n",
    "print(myCircularQueue.enQueue(1)) # return True\n",
    "print(myCircularQueue.enQueue(2)) # return True\n",
    "print(myCircularQueue.enQueue(3)) # return True\n",
    "print(myCircularQueue.enQueue(4)) # return False\n",
    "print(myCircularQueue.Rear()) # return 3\n",
    "print(myCircularQueue.isFull())   # return True\n",
    "print(myCircularQueue.deQueue())  # return True\n",
    "print(myCircularQueue.enQueue(4)) # return True\n",
    "print(myCircularQueue.Rear())     # return 4"
   ]
  },
  {
   "cell_type": "markdown",
   "metadata": {},
   "source": [
    "### Dequeue"
   ]
  },
  {
   "cell_type": "code",
   "execution_count": 2,
   "metadata": {},
   "outputs": [],
   "source": [
    "class MyCircularDeque:\n",
    "\n",
    "    def __init__(self, k: int):\n",
    "        self.items = []\n",
    "        self.maxsize = k\n",
    "\n",
    "    def insertFront(self, value: int) -> bool:\n",
    "        if len(self.items) < self.maxsize:\n",
    "            self.items.insert(0, value)\n",
    "            return True\n",
    "        else:\n",
    "            return False\n",
    "        print(self.items)\n",
    "\n",
    "    def insertLast(self, value: int) -> bool:\n",
    "        if len(self.items) < self.maxsize:\n",
    "            self.items.append(value)\n",
    "            return True\n",
    "        else:\n",
    "            return False\n",
    "        print(self.items)\n",
    "\n",
    "\n",
    "    def deleteFront(self) -> bool:\n",
    "        if len(self.items) == 0:\n",
    "            return False\n",
    "        else:\n",
    "            self.items.pop(0)\n",
    "            return True\n",
    "\n",
    "    def deleteLast(self) -> bool:\n",
    "        if len(self.items) == 0:\n",
    "            return False\n",
    "        else:\n",
    "            self.items.pop()\n",
    "            return True\n",
    "\n",
    "    def getFront(self) -> int:\n",
    "        if len(self.items) == 0:\n",
    "            return -1\n",
    "        else:\n",
    "            return self.items[0]\n",
    "\n",
    "        \n",
    "    def getRear(self) -> int:\n",
    "        if len(self.items) == 0:\n",
    "            return -1\n",
    "        else:\n",
    "            return self.items[-1]\n",
    "        \n",
    "\n",
    "    def isEmpty(self) -> bool:\n",
    "            if len(self.items) == 0:\n",
    "                return True\n",
    "            else:\n",
    "                return False\n",
    "\n",
    "    def isFull(self) -> bool:\n",
    "            if len(self.items) == self.maxsize:\n",
    "                return True\n",
    "            else:\n",
    "                return False"
   ]
  },
  {
   "cell_type": "code",
   "execution_count": 3,
   "metadata": {},
   "outputs": [],
   "source": [
    "# test\n",
    "circularDeque = MyCircularDeque(3); # set the size to be 3\n",
    "circularDeque.insertLast(1);\t\t\t# return true\n",
    "circularDeque.insertLast(2);\t\t\t#return true\n",
    "circularDeque.insertFront(3);\t\t\t# return true\n",
    "circularDeque.insertFront(4);\t\t\t#return false, the queue is full\n",
    "circularDeque.getRear();  \t\t\t# return 2\n",
    "circularDeque.isFull();\t\t\t\t#return true\n",
    "circularDeque.deleteLast();\t\t\t# return true\n",
    "circularDeque.insertFront(4);\t\t\t# return true\n",
    "circularDeque.getFront();\t\t\t#return 4"
   ]
  },
  {
   "cell_type": "markdown",
   "metadata": {},
   "source": [
    "### Number of Recent Calls"
   ]
  },
  {
   "cell_type": "code",
   "execution_count": null,
   "metadata": {},
   "outputs": [],
   "source": [
    "You have a RecentCounter class which counts the number of recent requests within a certain time frame.\n",
    "Input\n",
    "[\"RecentCounter\", \"ping\", \"ping\", \"ping\", \"ping\"]\n",
    "[[], [1], [100], [3001], [3002]]\n",
    "Output\n",
    "[null, 1, 2, 3, 3]"
   ]
  },
  {
   "cell_type": "code",
   "execution_count": 1,
   "metadata": {},
   "outputs": [],
   "source": [
    "# 計算3000總共有多少次PING\n",
    "class RecentCounter(object):\n",
    "    def __init__(self):\n",
    "        self.queue = [] # 利用list來表示一個queue\n",
    "    def ping(self, t):\n",
    "        self.queue.append(t) # 將目前ping到的t加到queue後面\n",
    "        while (self.queue[0] < t - 3000): # 如果queue的第一個t小t-3000，移除\n",
    "            self.queue.pop(0)\n",
    "        return len(self.queue)\n"
   ]
  },
  {
   "cell_type": "markdown",
   "metadata": {},
   "source": [
    "### Task Scheduler"
   ]
  },
  {
   "cell_type": "code",
   "execution_count": null,
   "metadata": {},
   "outputs": [],
   "source": [
    "Given a characters array tasks, representing the tasks a CPU needs to do, where each letter represents a different task. Tasks could be done in any order. Each task is done in one unit of time. For each unit of time, the CPU could complete either one task or just be idle.\n",
    "\n",
    "Input: tasks = [\"A\",\"A\",\"A\",\"A\",\"A\",\"A\",\"B\",\"C\",\"D\",\"E\",\"F\",\"G\"], n = 2\n",
    "Output: 16\n",
    "Explanation: \n",
    "One possible solution is\n",
    "A -> B -> C -> A -> D -> E -> A -> F -> G -> A -> idle -> idle -> A -> idle -> idle -> A\n",
    "\n",
    "# 顯找到數量最多的任務，這些任務之間要填充n數量的任務，不夠可以補idle閒置"
   ]
  },
  {
   "cell_type": "code",
   "execution_count": 30,
   "metadata": {},
   "outputs": [],
   "source": [
    "class Solution(object):\n",
    "    def leastInterval(self, tasks, n):\n",
    "        # 先確定最多的元素有哪些，然後用最多元素的空格 X n，最後加上最多元素的數量\n",
    "        # 利用collection的counter來做計數\n",
    "        import collections\n",
    "        count = collections.Counter(tasks)\n",
    "        print(count)\n",
    "        most = count.most_common()[0][1] # 計數字\n",
    "        num_max = len([i for i, v in count.items() if v == most])\n",
    "        print(num_max)\n",
    "        time = (most - 1) * (n + 1) + num_max\n",
    "        return max(time, len(tasks))"
   ]
  },
  {
   "cell_type": "code",
   "execution_count": 32,
   "metadata": {},
   "outputs": [
    {
     "name": "stdout",
     "output_type": "stream",
     "text": [
      "Counter({'A': 6, 'B': 1, 'C': 1, 'D': 1, 'E': 1, 'F': 1, 'G': 1})\n",
      "1\n"
     ]
    },
    {
     "data": {
      "text/plain": [
       "16"
      ]
     },
     "execution_count": 32,
     "metadata": {},
     "output_type": "execute_result"
    }
   ],
   "source": [
    "solution_task = Solution()\n",
    "tasks1 = [\"A\",\"A\",\"A\",\"A\",\"A\",\"A\",\"B\",\"C\",\"D\",\"E\",\"F\",\"G\"]\n",
    "tasks2 = [\"A\",\"A\",\"A\",\"B\",\"B\",\"B\"]\n",
    "solution_task.leastInterval(tasks1, 2)"
   ]
  },
  {
   "cell_type": "markdown",
   "metadata": {},
   "source": [
    "### Number of Islands"
   ]
  },
  {
   "cell_type": "code",
   "execution_count": null,
   "metadata": {},
   "outputs": [],
   "source": [
    "Given an m x n 2d grid map of '1's (land) and '0's (water), return the number of islands.\n",
    "An island is surrounded by water and is formed by connecting adjacent lands horizontally or vertically. You may assume all four edges of the grid are all surrounded by water.\n",
    "\n",
    "Input: grid = [\n",
    "  [\"1\",\"1\",\"0\",\"0\",\"0\"],\n",
    "  [\"1\",\"1\",\"0\",\"0\",\"0\"],\n",
    "  [\"0\",\"0\",\"1\",\"0\",\"0\"],\n",
    "  [\"0\",\"0\",\"0\",\"1\",\"1\"]\n",
    "]\n",
    "Output: 3"
   ]
  },
  {
   "cell_type": "code",
   "execution_count": 131,
   "metadata": {},
   "outputs": [],
   "source": [
    "class Solution(object):\n",
    "    def numIslands(self, grid):\n",
    "        height, width = len(grid), len(grid[0]) # 總高度與總寬度\n",
    "        self.count = 0\n",
    "        for y in range(height):\n",
    "            for x in range(width):\n",
    "                if grid[y][x] == \"1\":\n",
    "                    self.bfs(grid, x, y)\n",
    "        return self.count\n",
    "    \n",
    "    def bfs(self, grid, x, y): # 判斷是否為島嶼\n",
    "        height, width = len(grid), len(grid[0])\n",
    "        queue = [(x,y)] # 將數字為1的座標放到queue\n",
    "        while queue:\n",
    "            x, y = queue.pop(0) # 把queue的每一個拉出來看是不是1\n",
    "            if x >= 0 and x < width and y >= 0 and y < height:\n",
    "                if grid[y][x] == \"1\":\n",
    "                    grid[y][x] = None # 將為1的數字改為None，避免重複算\n",
    "                    # 繼續探索上下左右\n",
    "                    queue.extend([(x-1,y),(x+1,y),(x,y+1),(x,y-1)])\n",
    "                    # extend是向後加入多個元素\n",
    "        self.count += 1"
   ]
  },
  {
   "cell_type": "code",
   "execution_count": 132,
   "metadata": {},
   "outputs": [
    {
     "data": {
      "text/plain": [
       "3"
      ]
     },
     "execution_count": 132,
     "metadata": {},
     "output_type": "execute_result"
    }
   ],
   "source": [
    "solution_island = Solution()\n",
    "solution_island.numIslands([\n",
    "  [\"1\",\"1\",\"0\",\"0\",\"0\"],\n",
    "  [\"1\",\"1\",\"0\",\"0\",\"0\"],\n",
    "  [\"0\",\"0\",\"1\",\"0\",\"0\"],\n",
    "  [\"0\",\"0\",\"0\",\"1\",\"1\"]\n",
    "])"
   ]
  }
 ],
 "metadata": {
  "kernelspec": {
   "display_name": "Python 3",
   "language": "python",
   "name": "python3"
  },
  "language_info": {
   "codemirror_mode": {
    "name": "ipython",
    "version": 3
   },
   "file_extension": ".py",
   "mimetype": "text/x-python",
   "name": "python",
   "nbconvert_exporter": "python",
   "pygments_lexer": "ipython3",
   "version": "3.8.5"
  }
 },
 "nbformat": 4,
 "nbformat_minor": 4
}
