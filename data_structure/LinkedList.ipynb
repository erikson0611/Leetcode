{
 "cells": [
  {
   "cell_type": "markdown",
   "metadata": {},
   "source": [
    "### Delete Node"
   ]
  },
  {
   "cell_type": "code",
   "execution_count": 1,
   "metadata": {},
   "outputs": [
    {
     "name": "stdout",
     "output_type": "stream",
     "text": [
      "text\n",
      "1\n",
      "2\n",
      "3\n",
      "None\n"
     ]
    }
   ],
   "source": [
    "class ListNode:\n",
    "    def __init__(self, val=0, next=None):\n",
    "        self.val = val\n",
    "        self.next = None\n",
    "        \n",
    "    def __str__(self):\n",
    "        return str(self.val)\n",
    "    \n",
    "    def deleteNode(self, node):\n",
    "        node.val = node.next.val\n",
    "        node.next = node.next.next\n",
    "\n",
    "\n",
    "\n",
    "print(ListNode(\"text\"))\n",
    "node1 = ListNode(1)\n",
    "node2 = ListNode(2)\n",
    "node3 = ListNode(3)\n",
    "\n",
    "node1.next = node2\n",
    "node2.next = node3\n",
    "\n",
    "def printList(node):\n",
    "    while node:\n",
    "        print(node)\n",
    "        node = node.next\n",
    "\n",
    "print(printList(node1))\n",
    "\n",
    "list = ListNode()\n",
    "list.deleteNode(node2)\n",
    "\n",
    "\n",
    "\n",
    "# print(printList(node1))\n",
    "\n",
    "\n"
   ]
  },
  {
   "cell_type": "markdown",
   "metadata": {},
   "source": [
    "### Convert Binary Number in a Linked List to Integer"
   ]
  },
  {
   "cell_type": "raw",
   "metadata": {},
   "source": [
    "Input: head = [1,0,1]\n",
    "Output: 5\n",
    "Explanation: (101) in base 2 = (5) in base 10"
   ]
  },
  {
   "cell_type": "code",
   "execution_count": 3,
   "metadata": {},
   "outputs": [],
   "source": [
    "# Definition for singly-linked list.\n",
    "class ListNode:\n",
    "    def __init__(self, val=0, next=None):\n",
    "        self.val = val\n",
    "        self.next = next\n",
    "class Solution:\n",
    "    def getDecimalValue(self, head: ListNode) -> int:\n",
    "        result = 0\n",
    "        while head: # 當head不為None時\n",
    "            result = result * 2 + head.val \n",
    "            head = head.next # 換到下一個node\n",
    "        return result"
   ]
  },
  {
   "cell_type": "markdown",
   "metadata": {},
   "source": [
    "### Merge In Between Linked Lists"
   ]
  },
  {
   "cell_type": "raw",
   "metadata": {},
   "source": [
    "You are given two linked lists: list1 and list2 of sizes n and m respectively.\n",
    "Remove list1's nodes from the ath node to the bth node, and put list2 in their place.\n",
    "The blue edges and nodes in the following figure incidate the result:\n",
    "\n",
    "Input: list1 = [0,1,2,3,4,5], a = 3, b = 4, list2 = [1000000,1000001,1000002]\n",
    "Output: [0,1,2,1000000,1000001,1000002,5]\n",
    "Explanation: We remove the nodes 3 and 4 and put the entire list2 in their place. The blue edges and nodes in the above figure indicate the result."
   ]
  },
  {
   "cell_type": "code",
   "execution_count": 7,
   "metadata": {},
   "outputs": [],
   "source": [
    "# Definition for singly-linked list.\n",
    "class ListNode:\n",
    "    def __init__(self, val=0, next=None):\n",
    "        self.val = val\n",
    "        self.next = next\n",
    "class Solution:\n",
    "    def mergeInBetween(self, list1: ListNode, a: int, b: int, list2: ListNode) -> ListNode:\n",
    "        # 先把node都準備好\n",
    "        cur = list1 # list1的head\n",
    "        list2_head = list2\n",
    "        list2_tail = list2\n",
    "        while list2_tail.next:\n",
    "            list2_tail = list2_tail.next # 取得list2的最後一個\n",
    "        \n",
    "        count = 0 #用來評估a、b的位置\n",
    "        pre = None # 前一個指標\n",
    "        while cur:\n",
    "            if count == a:\n",
    "                pre.next = list2_head # 不包含cur==第a個，所以用pre來指到list2\n",
    "            if count == b:\n",
    "                list2_tail.next = cur.next # 也不包含cur=b，兩個都指到下一個\n",
    "            pre = cur\n",
    "            count += 1\n",
    "            cur = cur.next\n",
    "        return list1\n",
    "                \n",
    "            "
   ]
  },
  {
   "cell_type": "markdown",
   "metadata": {},
   "source": [
    "### Merge Two Sorted Lists"
   ]
  },
  {
   "cell_type": "code",
   "execution_count": 8,
   "metadata": {},
   "outputs": [],
   "source": [
    "class ListNode:\n",
    "    def __init__(self, val=0, next=None):\n",
    "        self.val = val\n",
    "        self.next = next\n"
   ]
  },
  {
   "cell_type": "code",
   "execution_count": 2,
   "metadata": {},
   "outputs": [],
   "source": [
    "class Solution:\n",
    "    def mergeTwoLists(self, l1: ListNode, l2: ListNode) -> ListNode:\n",
    "        if not l1 or not l2: # if l1 or l2 is None, mean the linklist is end\n",
    "            return l1 or l2\n",
    "        head = cur = ListNode(0) #建立一個空的cur\n",
    "        while l1 and l2: # when l2 and l1 is not 0 or null then this while will continue running\n",
    "            if l1.val < l2.val:\n",
    "                cur.next = l1\n",
    "                l1 = l1.next\n",
    "            else:\n",
    "                cur.next = l2\n",
    "                l2 = l2.next\n",
    "            cur = cur.next # 再往下一個進行比較\n",
    "        cur.next = l1 # 兩個都已經結束，隨便把cur.next轉一下\n",
    "        return head.next\n"
   ]
  },
  {
   "cell_type": "markdown",
   "metadata": {},
   "source": [
    "### Middle of the Linked List"
   ]
  },
  {
   "cell_type": "raw",
   "metadata": {},
   "source": [
    "Given a non-empty, singly linked list with head node head, return a middle node of linked list.\n",
    "If there are two middle nodes, return the second middle node.\n",
    "\n",
    "Example 1:\n",
    "\n",
    "Input: [1,2,3,4,5]\n",
    "Output: Node 3 from this list (Serialization: [3,4,5])\n",
    "The returned node has value 3.  (The judge's serialization of this node is [3,4,5]).\n",
    "Note that we returned a ListNode object ans, such that:\n",
    "ans.val = 3, ans.next.val = 4, ans.next.next.val = 5, and ans.next.next.next = NULL."
   ]
  },
  {
   "cell_type": "code",
   "execution_count": 11,
   "metadata": {},
   "outputs": [],
   "source": [
    "# Definition for singly-linked list.\n",
    "class ListNode:\n",
    "    def __init__(self, val=0, next=None):\n",
    "        self.val = val\n",
    "        self.next = next\n",
    "class Solution:\n",
    "    def middleNode(self, head: ListNode) -> ListNode:\n",
    "        length = 1 # 計算總數\n",
    "        cur = head\n",
    "        while cur.next:\n",
    "            cur = cur.next\n",
    "            length += 1\n",
    "        length = length//2 + 1 # 找到終點的position\n",
    "        \n",
    "        count = 1\n",
    "        while head:\n",
    "#             print('count:{}'.format(count))\n",
    "#             print('length:{}'.format(length))\n",
    "            if count == length: # 當位置相同時\n",
    "                return head\n",
    "            head = head.next\n",
    "            count += 1"
   ]
  },
  {
   "cell_type": "markdown",
   "metadata": {},
   "source": [
    "### Swapping Nodes in a Linked List"
   ]
  },
  {
   "cell_type": "raw",
   "metadata": {},
   "source": [
    "You are given the head of a linked list, and an integer k.\n",
    "Return the head of the linked list after swapping the values of the kth node from the beginning and the kth node from the end (the list is 1-indexed).\n",
    "\n",
    "Input: head = [1,2,3,4,5], k = 2\n",
    "Output: [1,4,3,2,5]\n"
   ]
  },
  {
   "cell_type": "code",
   "execution_count": 18,
   "metadata": {},
   "outputs": [],
   "source": [
    "# Definition for singly-linked list.\n",
    "class ListNode:\n",
    "    def __init__(self, val=0, next=None):\n",
    "        self.val = val\n",
    "        self.next = next\n",
    "class Solution:\n",
    "    def swapNodes(self, head: ListNode, k: int) -> ListNode:\n",
    "        tmp_list = [] # 將node放到普通list去做修改\n",
    "        cur = head\n",
    "        while cur:\n",
    "            tmp_list.append(cur)\n",
    "            cur = cur.next\n",
    "        \n",
    "        tmp_list[k-1], tmp_list[len(tmp_list)-k] = tmp_list[len(tmp_list)-k], tmp_list[k-1] # swap\n",
    "        tmp_list[k - 1].next = None\n",
    "        tmp_list[len(tmp_list) - k].next = None\n",
    "        \n",
    "        # 直接建一個新的nodelist去接\n",
    "        head2 = ListNode()\n",
    "        cur2 = head2\n",
    "\n",
    "        for i in tmp_list:\n",
    "            cur2.next = ListNode(i.val) \n",
    "            cur2 = cur2.next\n",
    "        return head2.next"
   ]
  },
  {
   "cell_type": "code",
   "execution_count": null,
   "metadata": {},
   "outputs": [],
   "source": []
  },
  {
   "cell_type": "markdown",
   "metadata": {},
   "source": [
    "### Palindrome Linked List"
   ]
  },
  {
   "cell_type": "code",
   "execution_count": 45,
   "metadata": {},
   "outputs": [],
   "source": [
    "def isPalindrome(head) -> bool:\n",
    "    if head == None or head.next == None:\n",
    "        return True\n",
    "    link_list = []\n",
    "    current = head\n",
    "    while current != None:\n",
    "        link_list.append(current.val)\n",
    "        current = current.next\n",
    "    print(link_list)\n",
    "    count = len(link_list) // 2\n",
    "    for i in range(count):\n",
    "        if link_list[i] == link_list[-1-i]:\n",
    "            continue\n",
    "        else:\n",
    "            return False\n",
    "    return True"
   ]
  },
  {
   "cell_type": "code",
   "execution_count": 48,
   "metadata": {},
   "outputs": [],
   "source": [
    "# 測試用\n",
    "node1 = ListNode(0)\n",
    "node2 = ListNode(0)\n",
    "node1.next = node2"
   ]
  },
  {
   "cell_type": "code",
   "execution_count": 49,
   "metadata": {},
   "outputs": [
    {
     "name": "stdout",
     "output_type": "stream",
     "text": [
      "[0, 0]\n"
     ]
    },
    {
     "data": {
      "text/plain": [
       "True"
      ]
     },
     "execution_count": 49,
     "metadata": {},
     "output_type": "execute_result"
    }
   ],
   "source": [
    "isPalindrome(node1)"
   ]
  },
  {
   "cell_type": "markdown",
   "metadata": {},
   "source": [
    "### Linked List Cycle"
   ]
  },
  {
   "cell_type": "code",
   "execution_count": 54,
   "metadata": {},
   "outputs": [],
   "source": [
    "# try to create a slow cur and a fast cur. they will meet if the linklist contains circle.\n",
    "def hasCycle(head):\n",
    "    slow = fast = head\n",
    "    while fast and fast.next:\n",
    "        slow = slow.next\n",
    "        fast = fast.next.next\n",
    "        if slow == fast:\n",
    "            return True\n",
    "    return False"
   ]
  },
  {
   "cell_type": "code",
   "execution_count": 58,
   "metadata": {},
   "outputs": [],
   "source": [
    "# 測試用\n",
    "node1 = ListNode(1)\n",
    "node2 = ListNode(2)\n",
    "node3 = ListNode(3)\n",
    "node1.next = node2\n",
    "node2.next = node3\n",
    "node3.next = None"
   ]
  },
  {
   "cell_type": "code",
   "execution_count": 59,
   "metadata": {},
   "outputs": [
    {
     "data": {
      "text/plain": [
       "False"
      ]
     },
     "execution_count": 59,
     "metadata": {},
     "output_type": "execute_result"
    }
   ],
   "source": [
    "hasCycle(node1)"
   ]
  }
 ],
 "metadata": {
  "kernelspec": {
   "display_name": "Python 3",
   "language": "python",
   "name": "python3"
  },
  "language_info": {
   "codemirror_mode": {
    "name": "ipython",
    "version": 3
   },
   "file_extension": ".py",
   "mimetype": "text/x-python",
   "name": "python",
   "nbconvert_exporter": "python",
   "pygments_lexer": "ipython3",
   "version": "3.8.5"
  }
 },
 "nbformat": 4,
 "nbformat_minor": 4
}
