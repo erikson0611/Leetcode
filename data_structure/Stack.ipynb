{
 "cells": [
  {
   "cell_type": "markdown",
   "metadata": {},
   "source": [
    "## Stack"
   ]
  },
  {
   "cell_type": "markdown",
   "metadata": {},
   "source": [
    "### Min Stack"
   ]
  },
  {
   "cell_type": "code",
   "execution_count": null,
   "metadata": {},
   "outputs": [],
   "source": [
    "Input\n",
    "[\"MinStack\",\"push\",\"push\",\"push\",\"getMin\",\"pop\",\"top\",\"getMin\"]\n",
    "[[],[-2],[0],[-3],[],[],[],[]]\n",
    "\n",
    "Output\n",
    "[null,null,null,null,-3,null,0,-2]\n",
    "\n",
    "Explanation\n",
    "MinStack minStack = new MinStack();\n",
    "minStack.push(-2);\n",
    "minStack.push(0);\n",
    "minStack.push(-3);\n",
    "minStack.getMin(); // return -3\n",
    "minStack.pop();\n",
    "minStack.top();    // return 0\n",
    "minStack.getMin(); // return -2"
   ]
  },
  {
   "cell_type": "code",
   "execution_count": 10,
   "metadata": {},
   "outputs": [],
   "source": [
    "class MinStack(object):\n",
    "\n",
    "    def __init__(self):\n",
    "        self.items = []\n",
    "        \n",
    "    def push(self, x): # 加入stack\n",
    "        self.items.append(x)\n",
    "        \n",
    "    def pop(self):\n",
    "        self.items.pop()\n",
    "\n",
    "    def top(self): #取得stack最頂端的元素，也可以看成是LIST最後一個\n",
    "        return self.items[-1]\n",
    "        \n",
    "    def getMin(self): # 取得最小\n",
    "        return min(self.items)\n",
    "        "
   ]
  },
  {
   "cell_type": "code",
   "execution_count": 11,
   "metadata": {},
   "outputs": [
    {
     "name": "stdout",
     "output_type": "stream",
     "text": [
      "None\n",
      "None\n",
      "None\n",
      "-3\n",
      "None\n",
      "0\n",
      "-2\n"
     ]
    }
   ],
   "source": [
    "minStack = MinStack()\n",
    "print(minStack.push(-2))\n",
    "print(minStack.push(0))\n",
    "print(minStack.push(-3))\n",
    "print(minStack.getMin())\n",
    "print(minStack.pop())\n",
    "print(minStack.top())\n",
    "print(minStack.getMin())"
   ]
  },
  {
   "cell_type": "markdown",
   "metadata": {},
   "source": [
    "### Design a Stack With Increment Operation"
   ]
  },
  {
   "cell_type": "raw",
   "metadata": {},
   "source": [
    "Implement the CustomStack class:\n",
    "\n",
    "CustomStack(int maxSize) Initializes the object with maxSize which is the maximum number of elements in the stack or do nothing if the stack reached the maxSize.\n",
    "void push(int x) Adds x to the top of the stack if the stack hasn't reached the maxSize.\n",
    "int pop() Pops and returns the top of stack or -1 if the stack is empty.\n",
    "void inc(int k, int val) Increments the bottom k elements of the stack by val. If there are less than k elements in the stack, just increment all the elements in the stack."
   ]
  },
  {
   "cell_type": "raw",
   "metadata": {},
   "source": [
    "[\"CustomStack\",\"push\",\"push\",\"pop\",\"push\",\"push\",\"push\",\"increment\",\"increment\",\"pop\",\"pop\",\"pop\",\"pop\"]\n",
    "[[3],[1],[2],[],[2],[3],[4],[5,100],[2,100],[],[],[],[]]\n",
    "Output\n",
    "[null,null,null,2,null,null,null,null,null,103,202,201,-1]\n",
    "Explanation\n",
    "CustomStack customStack = new CustomStack(3); // Stack is Empty []\n",
    "customStack.push(1);                          // stack becomes [1]\n",
    "customStack.push(2);                          // stack becomes [1, 2]\n",
    "customStack.pop();                            // return 2 --> Return top of the stack 2, stack becomes [1]\n",
    "customStack.push(2);                          // stack becomes [1, 2]\n",
    "customStack.push(3);                          // stack becomes [1, 2, 3]\n",
    "customStack.push(4);                          // stack still [1, 2, 3], Don't add another elements as size is 4\n",
    "customStack.increment(5, 100);                // stack becomes [101, 102, 103]\n",
    "customStack.increment(2, 100);                // stack becomes [201, 202, 103]\n",
    "customStack.pop();                            // return 103 --> Return top of the stack 103, stack becomes [201, 202]\n",
    "customStack.pop();                            // return 202 --> Return top of the stack 102, stack becomes [201]\n",
    "customStack.pop();                            // return 201 --> Return top of the stack 101, stack becomes []\n",
    "customStack.pop();                            // return -1 --> Stack is empty return -1.\n",
    "\n",
    "increment的意思是，前5個元素全部增加100"
   ]
  },
  {
   "cell_type": "code",
   "execution_count": 88,
   "metadata": {},
   "outputs": [],
   "source": [
    "class CustomStack(object):\n",
    "\n",
    "    def __init__(self, maxSize):\n",
    "        self.items = []\n",
    "        self.maxSize = maxSize\n",
    "            \n",
    "    def push(self, x): # 不可以超過限定的值\n",
    "        if len(self.items) == self.maxSize:\n",
    "            pass\n",
    "        else:\n",
    "            self.items.append(x)\n",
    "        print(self.items)\n",
    "        \n",
    "    def pop(self):\n",
    "        if len(self.items) != 0:\n",
    "            return self.items.pop()\n",
    "        else: #避免空集合無法pop的問題\n",
    "            return -1\n",
    "        print(self.items)\n",
    "\n",
    "    def increment(self, k, val):\n",
    "        if k > len(self.items):\n",
    "            self.items = [x + val for x in self.items]\n",
    "        else:\n",
    "            for i in range(k):\n",
    "                self.items[i] += val\n",
    "        print(self.items)"
   ]
  },
  {
   "cell_type": "code",
   "execution_count": 90,
   "metadata": {},
   "outputs": [
    {
     "name": "stdout",
     "output_type": "stream",
     "text": [
      "[83]\n",
      "[143]\n",
      "[204]\n",
      "[264]\n",
      "[264, 82]\n",
      "[264, 82, 21]\n",
      "[264, 82, 21]\n",
      "[272, 90, 29]\n",
      "[272, 90, 29]\n",
      "[272, 90, 29]\n",
      "[336, 90, 29]\n",
      "[336, 24]\n"
     ]
    }
   ],
   "source": [
    "# 測試用\n",
    "customStack = CustomStack(3)\n",
    "customStack.push(83)\n",
    "customStack.increment(2,60)\n",
    "customStack.increment(9,61)\n",
    "customStack.increment(1,60)\n",
    "customStack.push(82)\n",
    "customStack.push(21)\n",
    "customStack.push(58)\n",
    "customStack.increment(8, 8)\n",
    "customStack.push(22)\n",
    "customStack.push(80)\n",
    "customStack.increment(1,64)\n",
    "customStack.pop()\n",
    "customStack.pop()\n",
    "customStack.push(24)\n"
   ]
  },
  {
   "cell_type": "markdown",
   "metadata": {},
   "source": [
    "### Valid Parentheses"
   ]
  },
  {
   "cell_type": "code",
   "execution_count": null,
   "metadata": {},
   "outputs": [],
   "source": [
    "Given a string s containing just the characters '(', ')', '{', '}', '[' and ']', determine if the input string is valid."
   ]
  },
  {
   "cell_type": "code",
   "execution_count": 20,
   "metadata": {},
   "outputs": [],
   "source": [
    "class Solution(object):\n",
    "    def isValid(self, s):\n",
    "        # 先把左邊的括號收集起來，然後再進行match\n",
    "        left = ['(','[','{']\n",
    "        right = [')',']','}']\n",
    "        symbol_list = [] #用來存放左邊的stack\n",
    "        for item in s:\n",
    "            if item in left:\n",
    "                symbol_list.append(item)\n",
    "            else:\n",
    "                #查看他們對應的符號是否相等，利用對應的index位置來判斷\n",
    "                if not symbol_list or left.index(symbol_list[-1]) != right.index(item):\n",
    "                    return False\n",
    "                else:\n",
    "                    #相等的話則移除symbol_list裡面最後的元素\n",
    "                    symbol_list.pop()\n",
    "        return not symbol_list # 避免還有殘餘的元素在裡面"
   ]
  },
  {
   "cell_type": "code",
   "execution_count": 24,
   "metadata": {},
   "outputs": [
    {
     "data": {
      "text/plain": [
       "True"
      ]
     },
     "execution_count": 24,
     "metadata": {},
     "output_type": "execute_result"
    }
   ],
   "source": [
    "solution_valid = Solution()\n",
    "solution_valid.isValid(\"({[]})\")"
   ]
  },
  {
   "cell_type": "markdown",
   "metadata": {},
   "source": [
    "### Minimum Add to Make Parentheses Valid"
   ]
  },
  {
   "cell_type": "raw",
   "metadata": {},
   "source": [
    "Given a string S of '(' and ')' parentheses, we add the minimum number of parentheses ( '(' or ')', and in any positions ) so that the resulting parentheses string is valid.\n",
    "\n",
    "Input: \"(((\"\n",
    "Output: 3\n",
    "\n",
    "Input: \"()\"\n",
    "Output: 0"
   ]
  },
  {
   "cell_type": "code",
   "execution_count": 117,
   "metadata": {},
   "outputs": [],
   "source": [
    "class Solution(object):\n",
    "    def minAddToMakeValid(self, S):\n",
    "        # 丟掉一個STACK，能可以合併的就pop掉\n",
    "        stack = []\n",
    "        for i in S:\n",
    "            if i == \")\" and len(stack) != 0:\n",
    "                if stack[-1] == \"(\":\n",
    "                    stack.pop()\n",
    "                else:\n",
    "                    stack.append(i)\n",
    "            else:\n",
    "                stack.append(i)\n",
    "        return len(stack)"
   ]
  },
  {
   "cell_type": "code",
   "execution_count": 118,
   "metadata": {},
   "outputs": [
    {
     "data": {
      "text/plain": [
       "4"
      ]
     },
     "execution_count": 118,
     "metadata": {},
     "output_type": "execute_result"
    }
   ],
   "source": [
    "solution_min = Solution()\n",
    "input_text = '()))(('\n",
    "solution_min.minAddToMakeValid(input_text)"
   ]
  },
  {
   "cell_type": "markdown",
   "metadata": {},
   "source": [
    "### Daily Temperatures"
   ]
  },
  {
   "cell_type": "markdown",
   "metadata": {},
   "source": [
    "Given a list of daily temperatures T, return a list such that, for each day in the input, tells you how many days you would have to wait until a warmer temperature. If there is no future day for which this is possible, put 0 instead.\n",
    "For example, given the list of temperatures T = [73, 74, 75, 71, 69, 72, 76, 73], your output should be [1, 1, 4, 2, 1, 1, 0, 0]."
   ]
  },
  {
   "cell_type": "code",
   "execution_count": 58,
   "metadata": {},
   "outputs": [],
   "source": [
    "class Solution:\n",
    "    def dailyTemperatures(self, T):\n",
    "        result = [0] * len(T)\n",
    "        stack = [] #用來儲存index的list\n",
    "        # 先把每個元素的index押進stack，同時對數值做比較\n",
    "        # 如果現有T[i]比stack內對應的值大，將stack內pop並且計算差距\n",
    "        for i in range(len(T)):\n",
    "            print('i = {} and T[i] = {}'.format(i, T[i]))\n",
    "            while stack and T[stack[-1]] < T[i]:\n",
    "                print(T[stack[-1]],\"<\", T[i])\n",
    "                print('stack {}'.format(stack))\n",
    "                stack_i = stack.pop()\n",
    "                result[stack_i] = i - stack_i # 計算差距\n",
    "                print('stack {}'.format(stack))\n",
    "                print('result{}'.format(result))\n",
    "            stack.append(i)\n",
    "        return result"
   ]
  },
  {
   "cell_type": "code",
   "execution_count": 59,
   "metadata": {},
   "outputs": [
    {
     "name": "stdout",
     "output_type": "stream",
     "text": [
      "i = 0 and T[i] = 73\n",
      "i = 1 and T[i] = 74\n",
      "73 < 74\n",
      "stack [0]\n",
      "stack []\n",
      "result[1, 0, 0, 0, 0, 0, 0, 0]\n",
      "i = 2 and T[i] = 75\n",
      "74 < 75\n",
      "stack [1]\n",
      "stack []\n",
      "result[1, 1, 0, 0, 0, 0, 0, 0]\n",
      "i = 3 and T[i] = 71\n",
      "i = 4 and T[i] = 69\n",
      "i = 5 and T[i] = 72\n",
      "69 < 72\n",
      "stack [2, 3, 4]\n",
      "stack [2, 3]\n",
      "result[1, 1, 0, 0, 1, 0, 0, 0]\n",
      "71 < 72\n",
      "stack [2, 3]\n",
      "stack [2]\n",
      "result[1, 1, 0, 2, 1, 0, 0, 0]\n",
      "i = 6 and T[i] = 76\n",
      "72 < 76\n",
      "stack [2, 5]\n",
      "stack [2]\n",
      "result[1, 1, 0, 2, 1, 1, 0, 0]\n",
      "75 < 76\n",
      "stack [2]\n",
      "stack []\n",
      "result[1, 1, 4, 2, 1, 1, 0, 0]\n",
      "i = 7 and T[i] = 73\n"
     ]
    },
    {
     "data": {
      "text/plain": [
       "[1, 1, 4, 2, 1, 1, 0, 0]"
      ]
     },
     "execution_count": 59,
     "metadata": {},
     "output_type": "execute_result"
    }
   ],
   "source": [
    "solution_temp = Solution()\n",
    "solution_temp.dailyTemperatures([73, 74, 75, 71, 69, 72, 76, 73])"
   ]
  },
  {
   "cell_type": "markdown",
   "metadata": {},
   "source": [
    "### Evaluate Reverse Polish Notation"
   ]
  },
  {
   "cell_type": "markdown",
   "metadata": {},
   "source": [
    "Input: [\"4\", \"13\", \"5\", \"/\", \"+\"]\n",
    "Output: 6\n",
    "Explanation: (4 + (13 / 5)) = 6"
   ]
  },
  {
   "cell_type": "code",
   "execution_count": 52,
   "metadata": {},
   "outputs": [],
   "source": [
    "class Solution(object):\n",
    "    def evalRPN(self, tokens):\n",
    "        stack = []\n",
    "        # 建立一個stack把數字塞進去，遇到運算符號就把最後兩個拉出來運算\n",
    "        for i in tokens:\n",
    "            print(stack)\n",
    "            try: #判斷是否為數字\n",
    "                stack.append(int(i))\n",
    "            except:\n",
    "                if i == '+':\n",
    "                    tmp = stack[-1] + stack[-2]\n",
    "                elif i == '-':\n",
    "                    tmp = stack[-2] - stack[-1]\n",
    "                elif i == '*':\n",
    "                    tmp = stack[-1] * stack[-2]\n",
    "                elif i == '/':\n",
    "                    int(float(stack[-2])/stack[-1]) # 前面的除以後面的，而且要注意地板除法\n",
    "                stack = stack[:-2]\n",
    "                stack.append(tmp)\n",
    "        return stack[0]"
   ]
  },
  {
   "cell_type": "code",
   "execution_count": 53,
   "metadata": {},
   "outputs": [
    {
     "name": "stdout",
     "output_type": "stream",
     "text": [
      "[]\n",
      "[10]\n",
      "[10, 6]\n",
      "[10, 6, 9]\n",
      "[10, 6, 9, 3]\n",
      "[10, 6, 12]\n",
      "[10, 6, 12, -11]\n",
      "[10, 6, -132]\n",
      "[10, 0]\n",
      "[0]\n",
      "[0, 17]\n",
      "[17]\n",
      "[17, 5]\n"
     ]
    },
    {
     "data": {
      "text/plain": [
       "22"
      ]
     },
     "execution_count": 53,
     "metadata": {},
     "output_type": "execute_result"
    }
   ],
   "source": [
    "solution_eva = Solution()\n",
    "solution_eva.evalRPN([\"10\",\"6\",\"9\",\"3\",\"+\",\"-11\",\"*\",\"/\",\"*\",\"17\",\"+\",\"5\",\"+\"])"
   ]
  },
  {
   "cell_type": "markdown",
   "metadata": {},
   "source": [
    "### Remove Outermost Parentheses"
   ]
  },
  {
   "cell_type": "code",
   "execution_count": null,
   "metadata": {},
   "outputs": [],
   "source": [
    "Input: \"(()())(())\"\n",
    "Output: \"()()()\"\n",
    "Explanation: \n",
    "The input string is \"(()())(())\", with primitive decomposition \"(()())\" + \"(())\".\n",
    "After removing outer parentheses of each part, this is \"()()\" + \"()\" = \"()()()\".\n"
   ]
  },
  {
   "cell_type": "markdown",
   "metadata": {},
   "source": [
    "只要遇到大括號括到其他小的，就把大的移除<BR>\n",
    "例如(()())(())，可以先拆成：(()())和(())，去殼之後變成()()和()"
   ]
  },
  {
   "cell_type": "code",
   "execution_count": 58,
   "metadata": {},
   "outputs": [],
   "source": [
    "class Solution(object):\n",
    "    def removeOuterParentheses(self, S):\n",
    "        # 用count來判斷括號是不是最大的，(的數字應該為0，)的數字應該為1\n",
    "        # 遇到這兩個直接略過，不加到stake\n",
    "        count = 0\n",
    "        stack = [] # 建議堆疊的stack\n",
    "        for i in S:\n",
    "            if i == \"(\":\n",
    "                if count != 0: # 先判斷是不是大括號\n",
    "                    stack.append(i)\n",
    "                count += 1 # 記得count加減\n",
    "            elif i == \")\":\n",
    "                if count != 1:\n",
    "                    stack.append(i)\n",
    "                count -= 1\n",
    "        return ''.join([str(j) for j in stack])"
   ]
  },
  {
   "cell_type": "code",
   "execution_count": 67,
   "metadata": {},
   "outputs": [],
   "source": [
    "# 直接對字串做整理的解法\n",
    "class Solution(object):\n",
    "    def removeOuterParentheses(self, S):\n",
    "        # 用count來判斷括號是不是最大的，(的數字應該為0，)的數字應該為1\n",
    "        # 遇到這兩個直接略過，不加到stake\n",
    "        count = 0\n",
    "        stack = '' # 建議堆疊的string stack\n",
    "        for i in S:\n",
    "            if i == \"(\":\n",
    "                if count != 0: # 先判斷是不是大括號\n",
    "                    stack += i\n",
    "                count += 1 # 記得count加減\n",
    "            elif i == \")\":\n",
    "                if count != 1:\n",
    "                    stack += i\n",
    "                count -= 1\n",
    "        return stack"
   ]
  },
  {
   "cell_type": "code",
   "execution_count": 68,
   "metadata": {},
   "outputs": [
    {
     "data": {
      "text/plain": [
       "'()()()()(())'"
      ]
     },
     "execution_count": 68,
     "metadata": {},
     "output_type": "execute_result"
    }
   ],
   "source": [
    "solution_remove = Solution()\n",
    "test_list1 = \"(()())(())\"\n",
    "test_list2 = \"(()())(())(()(()))\"\n",
    "solution_remove.removeOuterParentheses(test_list2)"
   ]
  },
  {
   "cell_type": "markdown",
   "metadata": {},
   "source": [
    "### Remove All Adjacent Duplicates In String"
   ]
  },
  {
   "cell_type": "raw",
   "metadata": {},
   "source": [
    "Input: \"abbaca\"\n",
    "Output: \"ca\"\n",
    "Explanation: \n",
    "For example, in \"abbaca\" we could remove \"bb\" since the letters are adjacent and equal, and this is the only possible move.  The result of this move is that the string is \"aaca\", of which only \"aa\" is possible, so the final string is \"ca\"."
   ]
  },
  {
   "cell_type": "code",
   "execution_count": 4,
   "metadata": {},
   "outputs": [],
   "source": [
    "class Solution:\n",
    "    def removeDuplicates(self, S: str) -> str:\n",
    "        stack = [] # 利用stack來做儲存，有重複的部分進行Pop\n",
    "        for i in S:\n",
    "            if len(stack) == 0:\n",
    "                stack.append(i)\n",
    "            else:\n",
    "                if i == stack[-1]:\n",
    "                    stack.pop()\n",
    "                else:\n",
    "                    stack.append(i)\n",
    "        return \"\".join(stack)"
   ]
  },
  {
   "cell_type": "code",
   "execution_count": 5,
   "metadata": {},
   "outputs": [
    {
     "data": {
      "text/plain": [
       "'ca'"
      ]
     },
     "execution_count": 5,
     "metadata": {},
     "output_type": "execute_result"
    }
   ],
   "source": [
    "solution_redu = Solution()\n",
    "solution_redu.removeDuplicates('abbaca')"
   ]
  },
  {
   "cell_type": "code",
   "execution_count": null,
   "metadata": {},
   "outputs": [],
   "source": []
  }
 ],
 "metadata": {
  "kernelspec": {
   "display_name": "Python 3",
   "language": "python",
   "name": "python3"
  },
  "language_info": {
   "codemirror_mode": {
    "name": "ipython",
    "version": 3
   },
   "file_extension": ".py",
   "mimetype": "text/x-python",
   "name": "python",
   "nbconvert_exporter": "python",
   "pygments_lexer": "ipython3",
   "version": "3.8.5"
  }
 },
 "nbformat": 4,
 "nbformat_minor": 4
}
