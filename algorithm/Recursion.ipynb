{
 "cells": [
  {
   "cell_type": "markdown",
   "metadata": {},
   "source": [
    "### Find a Corresponding Node of a Binary Tree in a Clone of That Tree"
   ]
  },
  {
   "cell_type": "raw",
   "metadata": {},
   "source": [
    "Given two binary trees original and cloned and given a reference to a node target in the original tree.\n",
    "\n",
    "The cloned tree is a copy of the original tree.\n",
    "\n",
    "Return a reference to the same node in the cloned tree."
   ]
  },
  {
   "cell_type": "code",
   "execution_count": 1,
   "metadata": {},
   "outputs": [],
   "source": [
    "# Definition for a binary tree node.\n",
    "class TreeNode:\n",
    "    def __init__(self, x):\n",
    "        self.val = x\n",
    "        self.left = None\n",
    "        self.right = None\n",
    "class Solution:\n",
    "    def getTargetCopy(self, original: TreeNode, cloned: TreeNode, target: TreeNode) -> TreeNode:\n",
    "        # 返回跟目標值相同的node\n",
    "        stack = []\n",
    "        while cloned or stack: \n",
    "            while cloned: # 利用cloned找到最左下的node，並且把node存到stack\n",
    "                stack.append(cloned)\n",
    "                cloned = cloned.left\n",
    "            cloned = stack.pop() #把stack內的node取出\n",
    "            if cloned.val == target.val: # 判斷是否跟target相等\n",
    "                return cloned\n",
    "            cloned = cloned.right # 換右邊的樹，然後再搜尋一次"
   ]
  },
  {
   "cell_type": "markdown",
   "metadata": {},
   "source": [
    "### Range Sum of BST"
   ]
  },
  {
   "cell_type": "raw",
   "metadata": {},
   "source": [
    "Given the root node of a binary search tree, return the sum of values of all nodes with a value in the range [low, high].\n",
    "\n",
    "Input: root = [10,5,15,3,7,null,18], low = 7, high = 15\n",
    "Output: 32"
   ]
  },
  {
   "cell_type": "code",
   "execution_count": 3,
   "metadata": {},
   "outputs": [],
   "source": [
    "# Definition for a binary tree node.\n",
    "class TreeNode:\n",
    "    def __init__(self, val=0, left=None, right=None):\n",
    "        self.val = val\n",
    "        self.left = left\n",
    "        self.right = right\n",
    "class Solution:\n",
    "    def rangeSumBST(self, root: TreeNode, low: int, high: int) -> int:\n",
    "        if not root: # 如果沒有root則返回0\n",
    "            return 0\n",
    "        if low <= root.val <= high: # 如果是條件內，則加入root.val\n",
    "            return self.rangeSumBST(root.left, low, high) + root.val + self.rangeSumBST(root.right, low, high)\n",
    "        else:\n",
    "            return self.rangeSumBST(root.left, low, high) + self.rangeSumBST(root.right, low, high)\n",
    "\n"
   ]
  },
  {
   "cell_type": "markdown",
   "metadata": {},
   "source": [
    "### Increasing Order Search Tree"
   ]
  },
  {
   "cell_type": "raw",
   "metadata": {},
   "source": [
    "Given the root of a binary search tree, rearrange the tree in in-order so that the leftmost node in the tree is now the root of the tree, and every node has no left child and only one right child.\n",
    "\n",
    "Input: root = [5,3,6,2,4,null,8,1,null,null,null,7,9]\n",
    "Output: [1,null,2,null,3,null,4,null,5,null,6,null,7,null,8,null,9]"
   ]
  },
  {
   "cell_type": "code",
   "execution_count": 4,
   "metadata": {},
   "outputs": [],
   "source": [
    "# Definition for a binary tree node.\n",
    "class TreeNode:\n",
    "    def __init__(self, val=0, left=None, right=None):\n",
    "        self.val = val\n",
    "        self.left = left\n",
    "        self.right = right\n",
    "class Solution:\n",
    "    def increasingBST(self, root: TreeNode) -> TreeNode:\n",
    "        # 要把樹給拉直，越左邊的排越前面\n",
    "        def inorder(node):\n",
    "            if not node:\n",
    "                return None\n",
    "            inorder(node.left)\n",
    "            self.node.right = TreeNode(node.val)\n",
    "            self.node = self.node.right\n",
    "            inorder(node.right)\n",
    "        self.node = self.new = TreeNode()    \n",
    "        inorder(root)\n",
    "        return self.new.right"
   ]
  },
  {
   "cell_type": "code",
   "execution_count": null,
   "metadata": {},
   "outputs": [],
   "source": []
  }
 ],
 "metadata": {
  "kernelspec": {
   "display_name": "Python 3",
   "language": "python",
   "name": "python3"
  },
  "language_info": {
   "codemirror_mode": {
    "name": "ipython",
    "version": 3
   },
   "file_extension": ".py",
   "mimetype": "text/x-python",
   "name": "python",
   "nbconvert_exporter": "python",
   "pygments_lexer": "ipython3",
   "version": "3.8.5"
  }
 },
 "nbformat": 4,
 "nbformat_minor": 4
}
